{
  "nbformat": 4,
  "nbformat_minor": 0,
  "metadata": {
    "colab": {
      "name": "Twitter API.ipynb",
      "provenance": []
    },
    "kernelspec": {
      "name": "python3",
      "display_name": "Python 3"
    }
  },
  "cells": [
    {
      "cell_type": "code",
      "metadata": {
        "id": "MahF9RRjbfOW",
        "colab_type": "code",
        "colab": {}
      },
      "source": [
        "import tweepy as tw"
      ],
      "execution_count": 0,
      "outputs": []
    },
    {
      "cell_type": "code",
      "metadata": {
        "id": "ACSMqeZYbtgT",
        "colab_type": "code",
        "colab": {}
      },
      "source": [
        "consumer_key = 'SbvqnVGTI7gx4B5L8RMU3nakH'\n",
        "consumer_secret = 'BcSGYicI0Ubf5mayzpLMVkRDfVPbSrYLPP3zeMvM6i6874tEoB'\n",
        "access_token = '917548352446791685-hfmY6pFMPDiW59VGUFlXbIUUbp8MKxu'\n",
        "access_token_secret = 'n00UiYneBr6KGYYY51sPyrBv9uwSFYbWwoJWmzabO9ica'"
      ],
      "execution_count": 0,
      "outputs": []
    },
    {
      "cell_type": "code",
      "metadata": {
        "id": "OQiYJgrBcHev",
        "colab_type": "code",
        "colab": {}
      },
      "source": [
        "auth = tw.OAuthHandler(consumer_key, consumer_secret)"
      ],
      "execution_count": 0,
      "outputs": []
    },
    {
      "cell_type": "code",
      "metadata": {
        "id": "vNN7diFVcauZ",
        "colab_type": "code",
        "colab": {}
      },
      "source": [
        "auth.set_access_token(access_token,access_token_secret)"
      ],
      "execution_count": 0,
      "outputs": []
    },
    {
      "cell_type": "code",
      "metadata": {
        "id": "YiQnxs7Dco3P",
        "colab_type": "code",
        "colab": {}
      },
      "source": [
        "api = tw.API(auth)"
      ],
      "execution_count": 0,
      "outputs": []
    },
    {
      "cell_type": "code",
      "metadata": {
        "id": "RYFpdck_cw9x",
        "colab_type": "code",
        "colab": {}
      },
      "source": [
        "tweet = api.update_status(\"Python e Twitter na #Alura\")"
      ],
      "execution_count": 0,
      "outputs": []
    },
    {
      "cell_type": "code",
      "metadata": {
        "id": "ghhX8iohdCsY",
        "colab_type": "code",
        "colab": {
          "base_uri": "https://localhost:8080/",
          "height": 1000
        },
        "outputId": "27405656-abaa-4a8f-aa25-268210df3997"
      },
      "source": [
        "tweet._json"
      ],
      "execution_count": 13,
      "outputs": [
        {
          "output_type": "execute_result",
          "data": {
            "text/plain": [
              "{'contributors': None,\n",
              " 'coordinates': None,\n",
              " 'created_at': 'Wed Sep 18 22:18:45 +0000 2019',\n",
              " 'entities': {'hashtags': [{'indices': [20, 26], 'text': 'Alura'}],\n",
              "  'symbols': [],\n",
              "  'urls': [],\n",
              "  'user_mentions': []},\n",
              " 'favorite_count': 0,\n",
              " 'favorited': False,\n",
              " 'geo': None,\n",
              " 'id': 1174447694040961024,\n",
              " 'id_str': '1174447694040961024',\n",
              " 'in_reply_to_screen_name': None,\n",
              " 'in_reply_to_status_id': None,\n",
              " 'in_reply_to_status_id_str': None,\n",
              " 'in_reply_to_user_id': None,\n",
              " 'in_reply_to_user_id_str': None,\n",
              " 'is_quote_status': False,\n",
              " 'lang': 'de',\n",
              " 'place': None,\n",
              " 'retweet_count': 0,\n",
              " 'retweeted': False,\n",
              " 'source': '<a href=\"https://github.com/jcalvesoliveira\" rel=\"nofollow\">alura-python-twitter</a>',\n",
              " 'text': 'Python e Twitter na #Alura',\n",
              " 'truncated': False,\n",
              " 'user': {'contributors_enabled': False,\n",
              "  'created_at': 'Tue Oct 10 00:32:29 +0000 2017',\n",
              "  'default_profile': True,\n",
              "  'default_profile_image': False,\n",
              "  'description': 'helping humans control machines.',\n",
              "  'entities': {'description': {'urls': []},\n",
              "   'url': {'urls': [{'display_url': 'github.com/jcalvesoliveir…',\n",
              "      'expanded_url': 'https://github.com/jcalvesoliveira/',\n",
              "      'indices': [0, 23],\n",
              "      'url': 'https://t.co/8FDlrf16JV'}]}},\n",
              "  'favourites_count': 884,\n",
              "  'follow_request_sent': False,\n",
              "  'followers_count': 13,\n",
              "  'following': False,\n",
              "  'friends_count': 176,\n",
              "  'geo_enabled': True,\n",
              "  'has_extended_profile': True,\n",
              "  'id': 917548352446791685,\n",
              "  'id_str': '917548352446791685',\n",
              "  'is_translation_enabled': False,\n",
              "  'is_translator': False,\n",
              "  'lang': None,\n",
              "  'listed_count': 0,\n",
              "  'location': '',\n",
              "  'name': 'Julio Oliveira',\n",
              "  'notifications': False,\n",
              "  'profile_background_color': 'F5F8FA',\n",
              "  'profile_background_image_url': None,\n",
              "  'profile_background_image_url_https': None,\n",
              "  'profile_background_tile': False,\n",
              "  'profile_banner_url': 'https://pbs.twimg.com/profile_banners/917548352446791685/1516284817',\n",
              "  'profile_image_url': 'http://pbs.twimg.com/profile_images/1166136356873101312/z20OkGf3_normal.jpg',\n",
              "  'profile_image_url_https': 'https://pbs.twimg.com/profile_images/1166136356873101312/z20OkGf3_normal.jpg',\n",
              "  'profile_link_color': '1DA1F2',\n",
              "  'profile_sidebar_border_color': 'C0DEED',\n",
              "  'profile_sidebar_fill_color': 'DDEEF6',\n",
              "  'profile_text_color': '333333',\n",
              "  'profile_use_background_image': True,\n",
              "  'protected': False,\n",
              "  'screen_name': 'jcalvesol',\n",
              "  'statuses_count': 17,\n",
              "  'time_zone': None,\n",
              "  'translator_type': 'none',\n",
              "  'url': 'https://t.co/8FDlrf16JV',\n",
              "  'utc_offset': None,\n",
              "  'verified': False}}"
            ]
          },
          "metadata": {
            "tags": []
          },
          "execution_count": 13
        }
      ]
    },
    {
      "cell_type": "markdown",
      "metadata": {
        "id": "LlFx0U6ZkWbw",
        "colab_type": "text"
      },
      "source": [
        "# Pesquisando Tweets"
      ]
    },
    {
      "cell_type": "code",
      "metadata": {
        "id": "RkoGhalZkYr6",
        "colab_type": "code",
        "colab": {}
      },
      "source": [
        "tweets = tw.Cursor(api.search,\n",
        "         q=\"data science\",\n",
        "         since='2019-01-01',\n",
        "         lang='pt').items(10)"
      ],
      "execution_count": 0,
      "outputs": []
    },
    {
      "cell_type": "code",
      "metadata": {
        "id": "xVmerYoskutQ",
        "colab_type": "code",
        "colab": {
          "base_uri": "https://localhost:8080/",
          "height": 211
        },
        "outputId": "7a530567-9a6e-48aa-c0d8-7b68345b919c"
      },
      "source": [
        "for tweeet in tweets:\n",
        "  print(tweet.text)"
      ],
      "execution_count": 21,
      "outputs": [
        {
          "output_type": "stream",
          "text": [
            "5 Beginner Friendly Steps to Learn Machine Learning and Data Science with #Python       5 etapas amigáveis para ini… https://t.co/eAf8QYTrM0\n",
            "5 Beginner Friendly Steps to Learn Machine Learning and Data Science with #Python       5 etapas amigáveis para ini… https://t.co/eAf8QYTrM0\n",
            "5 Beginner Friendly Steps to Learn Machine Learning and Data Science with #Python       5 etapas amigáveis para ini… https://t.co/eAf8QYTrM0\n",
            "5 Beginner Friendly Steps to Learn Machine Learning and Data Science with #Python       5 etapas amigáveis para ini… https://t.co/eAf8QYTrM0\n",
            "5 Beginner Friendly Steps to Learn Machine Learning and Data Science with #Python       5 etapas amigáveis para ini… https://t.co/eAf8QYTrM0\n",
            "5 Beginner Friendly Steps to Learn Machine Learning and Data Science with #Python       5 etapas amigáveis para ini… https://t.co/eAf8QYTrM0\n",
            "5 Beginner Friendly Steps to Learn Machine Learning and Data Science with #Python       5 etapas amigáveis para ini… https://t.co/eAf8QYTrM0\n",
            "5 Beginner Friendly Steps to Learn Machine Learning and Data Science with #Python       5 etapas amigáveis para ini… https://t.co/eAf8QYTrM0\n",
            "5 Beginner Friendly Steps to Learn Machine Learning and Data Science with #Python       5 etapas amigáveis para ini… https://t.co/eAf8QYTrM0\n",
            "5 Beginner Friendly Steps to Learn Machine Learning and Data Science with #Python       5 etapas amigáveis para ini… https://t.co/eAf8QYTrM0\n"
          ],
          "name": "stdout"
        }
      ]
    },
    {
      "cell_type": "code",
      "metadata": {
        "id": "H6_O_3QJk3yI",
        "colab_type": "code",
        "colab": {}
      },
      "source": [
        "tweets = tw.Cursor(api.search,\n",
        "         q=\"python\",\n",
        "         since='2019-01-01',\n",
        "         lang='pt').items(20)"
      ],
      "execution_count": 0,
      "outputs": []
    },
    {
      "cell_type": "code",
      "metadata": {
        "id": "tfiayQCflI9w",
        "colab_type": "code",
        "colab": {
          "base_uri": "https://localhost:8080/",
          "height": 1000
        },
        "outputId": "d98cae8e-dcb8-4308-e202-4da5f69a521b"
      },
      "source": [
        "for tweet in tweets:\n",
        "  print(tweet.user.screen_name)\n",
        "  print(tweet.user.location)\n",
        "  print('-----')\n",
        "  print('\\n')"
      ],
      "execution_count": 24,
      "outputs": [
        {
          "output_type": "stream",
          "text": [
            "julianyraiol\n",
            "Manaus, Brazil\n",
            "-----\n",
            "\n",
            "\n",
            "thaisviana\n",
            "Brazil\n",
            "-----\n",
            "\n",
            "\n",
            "thaisviana\n",
            "Brazil\n",
            "-----\n",
            "\n",
            "\n",
            "miriamretka\n",
            "Velvet Room\n",
            "-----\n",
            "\n",
            "\n",
            "CamileManto\n",
            "São Paulo\n",
            "-----\n",
            "\n",
            "\n",
            "osantana\n",
            "Wiesbaden, Germany\n",
            "-----\n",
            "\n",
            "\n",
            "laais_lot\n",
            "Curitiba, Brasil\n",
            "-----\n",
            "\n",
            "\n",
            "RafaFDantas\n",
            "\n",
            "-----\n",
            "\n",
            "\n",
            "carolcode\n",
            "Sao Paulo, Brazil\n",
            "-----\n",
            "\n",
            "\n",
            "juditecypreste\n",
            "São Paulo, Brasil\n",
            "-----\n",
            "\n",
            "\n",
            "pythonbot_\n",
            "\n",
            "-----\n",
            "\n",
            "\n",
            "TciaLima\n",
            "Brazil\n",
            "-----\n",
            "\n",
            "\n",
            "_claranobre\n",
            "Brazil\n",
            "-----\n",
            "\n",
            "\n",
            "estheraragaos\n",
            "\n",
            "-----\n",
            "\n",
            "\n",
            "AYHarano\n",
            "São Caetano do Sul, SP, Brasil\n",
            "-----\n",
            "\n",
            "\n",
            "santos_igr\n",
            "É o texas\n",
            "-----\n",
            "\n",
            "\n",
            "thaisviana\n",
            "Brazil\n",
            "-----\n",
            "\n",
            "\n",
            "navasgui\n",
            "Florianópolis, Brazil\n",
            "-----\n",
            "\n",
            "\n",
            "Lady_thekilla\n",
            "raio que o parta - Brasil\n",
            "-----\n",
            "\n",
            "\n",
            "cool_python\n",
            "Brighton & Hove, UK\n",
            "-----\n",
            "\n",
            "\n"
          ],
          "name": "stdout"
        }
      ]
    },
    {
      "cell_type": "code",
      "metadata": {
        "id": "yYbLO2ehlWQR",
        "colab_type": "code",
        "colab": {}
      },
      "source": [
        ""
      ],
      "execution_count": 0,
      "outputs": []
    }
  ]
}