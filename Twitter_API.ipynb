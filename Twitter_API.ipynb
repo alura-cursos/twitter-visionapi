{
 "cells": [
  {
   "cell_type": "code",
   "execution_count": 0,
   "metadata": {
    "colab": {},
    "colab_type": "code",
    "id": "MahF9RRjbfOW"
   },
   "outputs": [],
   "source": [
    "import tweepy as tw"
   ]
  },
  {
   "cell_type": "code",
   "execution_count": 0,
   "metadata": {
    "colab": {},
    "colab_type": "code",
    "id": "ACSMqeZYbtgT"
   },
   "outputs": [],
   "source": [
    "consumer_key = 'SbvqnVGTI7gx4B5L8RMU3nakH'\n",
    "consumer_secret = 'BcSGYicI0Ubf5mayzpLMVkRDfVPbSrYLPP3zeMvM6i6874tEoB'\n",
    "access_token = '917548352446791685-hfmY6pFMPDiW59VGUFlXbIUUbp8MKxu'\n",
    "access_token_secret = 'n00UiYneBr6KGYYY51sPyrBv9uwSFYbWwoJWmzabO9ica'"
   ]
  },
  {
   "cell_type": "code",
   "execution_count": 0,
   "metadata": {
    "colab": {},
    "colab_type": "code",
    "id": "OQiYJgrBcHev"
   },
   "outputs": [],
   "source": [
    "auth = tw.OAuthHandler(consumer_key, consumer_secret)"
   ]
  },
  {
   "cell_type": "code",
   "execution_count": 0,
   "metadata": {
    "colab": {},
    "colab_type": "code",
    "id": "vNN7diFVcauZ"
   },
   "outputs": [],
   "source": [
    "auth.set_access_token(access_token,access_token_secret)"
   ]
  },
  {
   "cell_type": "code",
   "execution_count": 0,
   "metadata": {
    "colab": {},
    "colab_type": "code",
    "id": "YiQnxs7Dco3P"
   },
   "outputs": [],
   "source": [
    "api = tw.API(auth)"
   ]
  },
  {
   "cell_type": "code",
   "execution_count": 0,
   "metadata": {
    "colab": {},
    "colab_type": "code",
    "id": "RYFpdck_cw9x"
   },
   "outputs": [],
   "source": [
    "tweet = api.update_status(\"Python e Twitter na #Alura\")"
   ]
  },
  {
   "cell_type": "code",
   "execution_count": 0,
   "metadata": {
    "colab": {
     "base_uri": "https://localhost:8080/",
     "height": 1000
    },
    "colab_type": "code",
    "id": "ghhX8iohdCsY",
    "outputId": "27405656-abaa-4a8f-aa25-268210df3997"
   },
   "outputs": [
    {
     "data": {
      "text/plain": [
       "{'contributors': None,\n",
       " 'coordinates': None,\n",
       " 'created_at': 'Wed Sep 18 22:18:45 +0000 2019',\n",
       " 'entities': {'hashtags': [{'indices': [20, 26], 'text': 'Alura'}],\n",
       "  'symbols': [],\n",
       "  'urls': [],\n",
       "  'user_mentions': []},\n",
       " 'favorite_count': 0,\n",
       " 'favorited': False,\n",
       " 'geo': None,\n",
       " 'id': 1174447694040961024,\n",
       " 'id_str': '1174447694040961024',\n",
       " 'in_reply_to_screen_name': None,\n",
       " 'in_reply_to_status_id': None,\n",
       " 'in_reply_to_status_id_str': None,\n",
       " 'in_reply_to_user_id': None,\n",
       " 'in_reply_to_user_id_str': None,\n",
       " 'is_quote_status': False,\n",
       " 'lang': 'de',\n",
       " 'place': None,\n",
       " 'retweet_count': 0,\n",
       " 'retweeted': False,\n",
       " 'source': '<a href=\"https://github.com/jcalvesoliveira\" rel=\"nofollow\">alura-python-twitter</a>',\n",
       " 'text': 'Python e Twitter na #Alura',\n",
       " 'truncated': False,\n",
       " 'user': {'contributors_enabled': False,\n",
       "  'created_at': 'Tue Oct 10 00:32:29 +0000 2017',\n",
       "  'default_profile': True,\n",
       "  'default_profile_image': False,\n",
       "  'description': 'helping humans control machines.',\n",
       "  'entities': {'description': {'urls': []},\n",
       "   'url': {'urls': [{'display_url': 'github.com/jcalvesoliveir…',\n",
       "      'expanded_url': 'https://github.com/jcalvesoliveira/',\n",
       "      'indices': [0, 23],\n",
       "      'url': 'https://t.co/8FDlrf16JV'}]}},\n",
       "  'favourites_count': 884,\n",
       "  'follow_request_sent': False,\n",
       "  'followers_count': 13,\n",
       "  'following': False,\n",
       "  'friends_count': 176,\n",
       "  'geo_enabled': True,\n",
       "  'has_extended_profile': True,\n",
       "  'id': 917548352446791685,\n",
       "  'id_str': '917548352446791685',\n",
       "  'is_translation_enabled': False,\n",
       "  'is_translator': False,\n",
       "  'lang': None,\n",
       "  'listed_count': 0,\n",
       "  'location': '',\n",
       "  'name': 'Julio Oliveira',\n",
       "  'notifications': False,\n",
       "  'profile_background_color': 'F5F8FA',\n",
       "  'profile_background_image_url': None,\n",
       "  'profile_background_image_url_https': None,\n",
       "  'profile_background_tile': False,\n",
       "  'profile_banner_url': 'https://pbs.twimg.com/profile_banners/917548352446791685/1516284817',\n",
       "  'profile_image_url': 'http://pbs.twimg.com/profile_images/1166136356873101312/z20OkGf3_normal.jpg',\n",
       "  'profile_image_url_https': 'https://pbs.twimg.com/profile_images/1166136356873101312/z20OkGf3_normal.jpg',\n",
       "  'profile_link_color': '1DA1F2',\n",
       "  'profile_sidebar_border_color': 'C0DEED',\n",
       "  'profile_sidebar_fill_color': 'DDEEF6',\n",
       "  'profile_text_color': '333333',\n",
       "  'profile_use_background_image': True,\n",
       "  'protected': False,\n",
       "  'screen_name': 'jcalvesol',\n",
       "  'statuses_count': 17,\n",
       "  'time_zone': None,\n",
       "  'translator_type': 'none',\n",
       "  'url': 'https://t.co/8FDlrf16JV',\n",
       "  'utc_offset': None,\n",
       "  'verified': False}}"
      ]
     },
     "execution_count": 13,
     "metadata": {
      "tags": []
     },
     "output_type": "execute_result"
    }
   ],
   "source": [
    "tweet._json"
   ]
  }
 ],
 "metadata": {
  "colab": {
   "name": "Twitter API.ipynb",
   "provenance": []
  },
  "kernelspec": {
   "display_name": "Python 3",
   "language": "python",
   "name": "python3"
  },
  "language_info": {
   "codemirror_mode": {
    "name": "ipython",
    "version": 3
   },
   "file_extension": ".py",
   "mimetype": "text/x-python",
   "name": "python",
   "nbconvert_exporter": "python",
   "pygments_lexer": "ipython3",
   "version": "3.7.1"
  }
 },
 "nbformat": 4,
 "nbformat_minor": 1
}
