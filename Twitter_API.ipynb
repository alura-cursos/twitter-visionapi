{
  "nbformat": 4,
  "nbformat_minor": 0,
  "metadata": {
    "colab": {
      "name": "Twitter API.ipynb",
      "provenance": []
    },
    "kernelspec": {
      "name": "python3",
      "display_name": "Python 3"
    }
  },
  "cells": [
    {
      "cell_type": "code",
      "metadata": {
        "id": "MahF9RRjbfOW",
        "colab_type": "code",
        "colab": {}
      },
      "source": [
        "import tweepy as tw"
      ],
      "execution_count": 0,
      "outputs": []
    },
    {
      "cell_type": "code",
      "metadata": {
        "id": "ACSMqeZYbtgT",
        "colab_type": "code",
        "colab": {}
      },
      "source": [
        "consumer_key = 'SbvqnVGTI7gx4B5L8RMU3nakH'\n",
        "consumer_secret = 'BcSGYicI0Ubf5mayzpLMVkRDfVPbSrYLPP3zeMvM6i6874tEoB'\n",
        "access_token = '917548352446791685-hfmY6pFMPDiW59VGUFlXbIUUbp8MKxu'\n",
        "access_token_secret = 'n00UiYneBr6KGYYY51sPyrBv9uwSFYbWwoJWmzabO9ica'"
      ],
      "execution_count": 0,
      "outputs": []
    },
    {
      "cell_type": "code",
      "metadata": {
        "id": "OQiYJgrBcHev",
        "colab_type": "code",
        "colab": {}
      },
      "source": [
        "auth = tw.OAuthHandler(consumer_key, consumer_secret)"
      ],
      "execution_count": 0,
      "outputs": []
    },
    {
      "cell_type": "code",
      "metadata": {
        "id": "vNN7diFVcauZ",
        "colab_type": "code",
        "colab": {}
      },
      "source": [
        "auth.set_access_token(access_token,access_token_secret)"
      ],
      "execution_count": 0,
      "outputs": []
    },
    {
      "cell_type": "code",
      "metadata": {
        "id": "YiQnxs7Dco3P",
        "colab_type": "code",
        "colab": {}
      },
      "source": [
        "api = tw.API(auth)"
      ],
      "execution_count": 0,
      "outputs": []
    },
    {
      "cell_type": "code",
      "metadata": {
        "id": "RYFpdck_cw9x",
        "colab_type": "code",
        "colab": {}
      },
      "source": [
        "tweet = api.update_status(\"Python e Twitter na #Alura\")"
      ],
      "execution_count": 0,
      "outputs": []
    },
    {
      "cell_type": "code",
      "metadata": {
        "id": "ghhX8iohdCsY",
        "colab_type": "code",
        "colab": {
          "base_uri": "https://localhost:8080/",
          "height": 1000
        },
        "outputId": "27405656-abaa-4a8f-aa25-268210df3997"
      },
      "source": [
        "tweet._json"
      ],
      "execution_count": 13,
      "outputs": [
        {
          "output_type": "execute_result",
          "data": {
            "text/plain": [
              "{'contributors': None,\n",
              " 'coordinates': None,\n",
              " 'created_at': 'Wed Sep 18 22:18:45 +0000 2019',\n",
              " 'entities': {'hashtags': [{'indices': [20, 26], 'text': 'Alura'}],\n",
              "  'symbols': [],\n",
              "  'urls': [],\n",
              "  'user_mentions': []},\n",
              " 'favorite_count': 0,\n",
              " 'favorited': False,\n",
              " 'geo': None,\n",
              " 'id': 1174447694040961024,\n",
              " 'id_str': '1174447694040961024',\n",
              " 'in_reply_to_screen_name': None,\n",
              " 'in_reply_to_status_id': None,\n",
              " 'in_reply_to_status_id_str': None,\n",
              " 'in_reply_to_user_id': None,\n",
              " 'in_reply_to_user_id_str': None,\n",
              " 'is_quote_status': False,\n",
              " 'lang': 'de',\n",
              " 'place': None,\n",
              " 'retweet_count': 0,\n",
              " 'retweeted': False,\n",
              " 'source': '<a href=\"https://github.com/jcalvesoliveira\" rel=\"nofollow\">alura-python-twitter</a>',\n",
              " 'text': 'Python e Twitter na #Alura',\n",
              " 'truncated': False,\n",
              " 'user': {'contributors_enabled': False,\n",
              "  'created_at': 'Tue Oct 10 00:32:29 +0000 2017',\n",
              "  'default_profile': True,\n",
              "  'default_profile_image': False,\n",
              "  'description': 'helping humans control machines.',\n",
              "  'entities': {'description': {'urls': []},\n",
              "   'url': {'urls': [{'display_url': 'github.com/jcalvesoliveir…',\n",
              "      'expanded_url': 'https://github.com/jcalvesoliveira/',\n",
              "      'indices': [0, 23],\n",
              "      'url': 'https://t.co/8FDlrf16JV'}]}},\n",
              "  'favourites_count': 884,\n",
              "  'follow_request_sent': False,\n",
              "  'followers_count': 13,\n",
              "  'following': False,\n",
              "  'friends_count': 176,\n",
              "  'geo_enabled': True,\n",
              "  'has_extended_profile': True,\n",
              "  'id': 917548352446791685,\n",
              "  'id_str': '917548352446791685',\n",
              "  'is_translation_enabled': False,\n",
              "  'is_translator': False,\n",
              "  'lang': None,\n",
              "  'listed_count': 0,\n",
              "  'location': '',\n",
              "  'name': 'Julio Oliveira',\n",
              "  'notifications': False,\n",
              "  'profile_background_color': 'F5F8FA',\n",
              "  'profile_background_image_url': None,\n",
              "  'profile_background_image_url_https': None,\n",
              "  'profile_background_tile': False,\n",
              "  'profile_banner_url': 'https://pbs.twimg.com/profile_banners/917548352446791685/1516284817',\n",
              "  'profile_image_url': 'http://pbs.twimg.com/profile_images/1166136356873101312/z20OkGf3_normal.jpg',\n",
              "  'profile_image_url_https': 'https://pbs.twimg.com/profile_images/1166136356873101312/z20OkGf3_normal.jpg',\n",
              "  'profile_link_color': '1DA1F2',\n",
              "  'profile_sidebar_border_color': 'C0DEED',\n",
              "  'profile_sidebar_fill_color': 'DDEEF6',\n",
              "  'profile_text_color': '333333',\n",
              "  'profile_use_background_image': True,\n",
              "  'protected': False,\n",
              "  'screen_name': 'jcalvesol',\n",
              "  'statuses_count': 17,\n",
              "  'time_zone': None,\n",
              "  'translator_type': 'none',\n",
              "  'url': 'https://t.co/8FDlrf16JV',\n",
              "  'utc_offset': None,\n",
              "  'verified': False}}"
            ]
          },
          "metadata": {
            "tags": []
          },
          "execution_count": 13
        }
      ]
    },
    {
      "cell_type": "markdown",
      "metadata": {
        "id": "LlFx0U6ZkWbw",
        "colab_type": "text"
      },
      "source": [
        "# Pesquisando Tweets"
      ]
    },
    {
      "cell_type": "code",
      "metadata": {
        "id": "RkoGhalZkYr6",
        "colab_type": "code",
        "colab": {}
      },
      "source": [
        "tweets = tw.Cursor(api.search,\n",
        "         q=\"data science\",\n",
        "         since='2019-01-01',\n",
        "         lang='pt').items(10)"
      ],
      "execution_count": 0,
      "outputs": []
    },
    {
      "cell_type": "code",
      "metadata": {
        "id": "xVmerYoskutQ",
        "colab_type": "code",
        "colab": {
          "base_uri": "https://localhost:8080/",
          "height": 211
        },
        "outputId": "7a530567-9a6e-48aa-c0d8-7b68345b919c"
      },
      "source": [
        "for tweeet in tweets:\n",
        "  print(tweet.text)"
      ],
      "execution_count": 21,
      "outputs": [
        {
          "output_type": "stream",
          "text": [
            "5 Beginner Friendly Steps to Learn Machine Learning and Data Science with #Python       5 etapas amigáveis para ini… https://t.co/eAf8QYTrM0\n",
            "5 Beginner Friendly Steps to Learn Machine Learning and Data Science with #Python       5 etapas amigáveis para ini… https://t.co/eAf8QYTrM0\n",
            "5 Beginner Friendly Steps to Learn Machine Learning and Data Science with #Python       5 etapas amigáveis para ini… https://t.co/eAf8QYTrM0\n",
            "5 Beginner Friendly Steps to Learn Machine Learning and Data Science with #Python       5 etapas amigáveis para ini… https://t.co/eAf8QYTrM0\n",
            "5 Beginner Friendly Steps to Learn Machine Learning and Data Science with #Python       5 etapas amigáveis para ini… https://t.co/eAf8QYTrM0\n",
            "5 Beginner Friendly Steps to Learn Machine Learning and Data Science with #Python       5 etapas amigáveis para ini… https://t.co/eAf8QYTrM0\n",
            "5 Beginner Friendly Steps to Learn Machine Learning and Data Science with #Python       5 etapas amigáveis para ini… https://t.co/eAf8QYTrM0\n",
            "5 Beginner Friendly Steps to Learn Machine Learning and Data Science with #Python       5 etapas amigáveis para ini… https://t.co/eAf8QYTrM0\n",
            "5 Beginner Friendly Steps to Learn Machine Learning and Data Science with #Python       5 etapas amigáveis para ini… https://t.co/eAf8QYTrM0\n",
            "5 Beginner Friendly Steps to Learn Machine Learning and Data Science with #Python       5 etapas amigáveis para ini… https://t.co/eAf8QYTrM0\n"
          ],
          "name": "stdout"
        }
      ]
    },
    {
      "cell_type": "code",
      "metadata": {
        "id": "H6_O_3QJk3yI",
        "colab_type": "code",
        "colab": {}
      },
      "source": [
        "tweets = tw.Cursor(api.search,\n",
        "         q=\"python\",\n",
        "         since='2019-01-01',\n",
        "         lang='pt').items(20)"
      ],
      "execution_count": 0,
      "outputs": []
    },
    {
      "cell_type": "code",
      "metadata": {
        "id": "tfiayQCflI9w",
        "colab_type": "code",
        "colab": {
          "base_uri": "https://localhost:8080/",
          "height": 1000
        },
        "outputId": "d98cae8e-dcb8-4308-e202-4da5f69a521b"
      },
      "source": [
        "for tweet in tweets:\n",
        "  print(tweet.user.screen_name)\n",
        "  print(tweet.user.location)\n",
        "  print('-----')\n",
        "  print('\\n')"
      ],
      "execution_count": 24,
      "outputs": [
        {
          "output_type": "stream",
          "text": [
            "julianyraiol\n",
            "Manaus, Brazil\n",
            "-----\n",
            "\n",
            "\n",
            "thaisviana\n",
            "Brazil\n",
            "-----\n",
            "\n",
            "\n",
            "thaisviana\n",
            "Brazil\n",
            "-----\n",
            "\n",
            "\n",
            "miriamretka\n",
            "Velvet Room\n",
            "-----\n",
            "\n",
            "\n",
            "CamileManto\n",
            "São Paulo\n",
            "-----\n",
            "\n",
            "\n",
            "osantana\n",
            "Wiesbaden, Germany\n",
            "-----\n",
            "\n",
            "\n",
            "laais_lot\n",
            "Curitiba, Brasil\n",
            "-----\n",
            "\n",
            "\n",
            "RafaFDantas\n",
            "\n",
            "-----\n",
            "\n",
            "\n",
            "carolcode\n",
            "Sao Paulo, Brazil\n",
            "-----\n",
            "\n",
            "\n",
            "juditecypreste\n",
            "São Paulo, Brasil\n",
            "-----\n",
            "\n",
            "\n",
            "pythonbot_\n",
            "\n",
            "-----\n",
            "\n",
            "\n",
            "TciaLima\n",
            "Brazil\n",
            "-----\n",
            "\n",
            "\n",
            "_claranobre\n",
            "Brazil\n",
            "-----\n",
            "\n",
            "\n",
            "estheraragaos\n",
            "\n",
            "-----\n",
            "\n",
            "\n",
            "AYHarano\n",
            "São Caetano do Sul, SP, Brasil\n",
            "-----\n",
            "\n",
            "\n",
            "santos_igr\n",
            "É o texas\n",
            "-----\n",
            "\n",
            "\n",
            "thaisviana\n",
            "Brazil\n",
            "-----\n",
            "\n",
            "\n",
            "navasgui\n",
            "Florianópolis, Brazil\n",
            "-----\n",
            "\n",
            "\n",
            "Lady_thekilla\n",
            "raio que o parta - Brasil\n",
            "-----\n",
            "\n",
            "\n",
            "cool_python\n",
            "Brighton & Hove, UK\n",
            "-----\n",
            "\n",
            "\n"
          ],
          "name": "stdout"
        }
      ]
    },
    {
      "cell_type": "code",
      "metadata": {
        "id": "yYbLO2ehlWQR",
        "colab_type": "code",
        "colab": {}
      },
      "source": [
        "famosos = ['cauareymond','aguiarthur','ivetesangalo','ClaudiaLeitte','neymarjr','BruMarquezine','mariruybarbosa',\n",
        "'FePaesLeme','Tatawerneck','FlaviaAleReal','julianapaes','dedesecco','SabrinaSato','ahickmann','gusttavo_lima','Anitta',\n",
        "'CarolCastroReal','gio_antonelli','maisa','cleooficial','gewbank','taisdeverdade','otaviano','bernardipaloma',\n",
        "'IngridGuimaraes','olazaroramos','GalisteuOficial','debranascimento','FioMattheis','moalfradique','Nandacostareal']"
      ],
      "execution_count": 0,
      "outputs": []
    },
    {
      "cell_type": "code",
      "metadata": {
        "id": "OEhnEPIsndXw",
        "colab_type": "code",
        "colab": {
          "base_uri": "https://localhost:8080/",
          "height": 35
        },
        "outputId": "ebb5d474-ce52-490b-869c-44c2e9464069"
      },
      "source": [
        "len(famosos)"
      ],
      "execution_count": 26,
      "outputs": [
        {
          "output_type": "execute_result",
          "data": {
            "text/plain": [
              "31"
            ]
          },
          "metadata": {
            "tags": []
          },
          "execution_count": 26
        }
      ]
    },
    {
      "cell_type": "code",
      "metadata": {
        "id": "W43AU0axnejo",
        "colab_type": "code",
        "colab": {
          "base_uri": "https://localhost:8080/",
          "height": 1000
        },
        "outputId": "f09dfab2-6a23-463b-ef69-42dac6f48219"
      },
      "source": [
        "for famoso in famosos:\n",
        "  tweets = tw.Cursor(api.search,\n",
        "         q=famoso,\n",
        "         since='2019-01-01').items(20)\n",
        "  print('Autor: ', famoso)\n",
        "  print('Imagens postadas:')\n",
        "  \n",
        "  for tweet in tweets:\n",
        "    if 'media' in tweet.entities:\n",
        "      print(tweet.entities['media'][0]['media_url'])\n",
        "      \n",
        "  print('-----')\n",
        "  print('\\n')\n",
        "    "
      ],
      "execution_count": 27,
      "outputs": [
        {
          "output_type": "stream",
          "text": [
            "Autor:  cauareymond\n",
            "Imagens postadas:\n",
            "http://pbs.twimg.com/media/C16jO_pXUAk8s7H.jpg\n",
            "-----\n",
            "\n",
            "\n",
            "Autor:  aguiarthur\n",
            "Imagens postadas:\n",
            "http://pbs.twimg.com/media/EEszp20WkAAr3uF.jpg\n",
            "-----\n",
            "\n",
            "\n",
            "Autor:  ivetesangalo\n",
            "Imagens postadas:\n",
            "-----\n",
            "\n",
            "\n",
            "Autor:  ClaudiaLeitte\n",
            "Imagens postadas:\n",
            "-----\n",
            "\n",
            "\n",
            "Autor:  neymarjr\n",
            "Imagens postadas:\n",
            "http://pbs.twimg.com/media/EExc_tnWkAE5TDP.jpg\n",
            "http://pbs.twimg.com/media/EExc_tnWkAE5TDP.jpg\n",
            "http://pbs.twimg.com/media/EExc_tnWkAE5TDP.jpg\n",
            "http://pbs.twimg.com/ext_tw_video_thumb/1174460129170919425/pu/img/Z-_Hy_XLkcDRufj6.jpg\n",
            "http://pbs.twimg.com/media/EExc_tnWkAE5TDP.jpg\n",
            "http://pbs.twimg.com/media/EExc_tnWkAE5TDP.jpg\n",
            "http://pbs.twimg.com/media/EExc_tnWkAE5TDP.jpg\n",
            "http://pbs.twimg.com/media/EExc_tnWkAE5TDP.jpg\n",
            "http://pbs.twimg.com/media/EExc_tnWkAE5TDP.jpg\n",
            "http://pbs.twimg.com/media/EExc_tnWkAE5TDP.jpg\n",
            "http://pbs.twimg.com/media/EExc_tnWkAE5TDP.jpg\n",
            "http://pbs.twimg.com/media/EExc_tnWkAE5TDP.jpg\n",
            "http://pbs.twimg.com/media/EExc_tnWkAE5TDP.jpg\n",
            "http://pbs.twimg.com/media/EExc_tnWkAE5TDP.jpg\n",
            "http://pbs.twimg.com/media/EExc_tnWkAE5TDP.jpg\n",
            "-----\n",
            "\n",
            "\n",
            "Autor:  BruMarquezine\n",
            "Imagens postadas:\n",
            "http://pbs.twimg.com/ext_tw_video_thumb/1174069335880585223/pu/img/AsGHovBD2gsPi5TS.jpg\n",
            "http://pbs.twimg.com/ext_tw_video_thumb/1174069335880585223/pu/img/AsGHovBD2gsPi5TS.jpg\n",
            "http://pbs.twimg.com/ext_tw_video_thumb/1174069335880585223/pu/img/AsGHovBD2gsPi5TS.jpg\n",
            "http://pbs.twimg.com/ext_tw_video_thumb/1174069335880585223/pu/img/AsGHovBD2gsPi5TS.jpg\n",
            "http://pbs.twimg.com/ext_tw_video_thumb/1174069335880585223/pu/img/AsGHovBD2gsPi5TS.jpg\n",
            "http://pbs.twimg.com/ext_tw_video_thumb/1174069335880585223/pu/img/AsGHovBD2gsPi5TS.jpg\n",
            "http://pbs.twimg.com/ext_tw_video_thumb/1174069335880585223/pu/img/AsGHovBD2gsPi5TS.jpg\n",
            "-----\n",
            "\n",
            "\n",
            "Autor:  mariruybarbosa\n",
            "Imagens postadas:\n",
            "http://pbs.twimg.com/tweet_video_thumb/EExNo4xXoAERoOS.jpg\n",
            "-----\n",
            "\n",
            "\n",
            "Autor:  FePaesLeme\n",
            "Imagens postadas:\n",
            "http://pbs.twimg.com/media/EEnhEirXoAAKvFV.jpg\n",
            "http://pbs.twimg.com/ext_tw_video_thumb/1174012318142873601/pu/img/8s9FG0_otmyDDnlG.jpg\n",
            "http://pbs.twimg.com/ext_tw_video_thumb/1167471073228677123/pu/img/GV4iSM3dLh9PCGNr.jpg\n",
            "http://pbs.twimg.com/tweet_video_thumb/EEwwqa7WwAAd0Qj.jpg\n",
            "http://pbs.twimg.com/ext_tw_video_thumb/1174155905778290688/pu/img/sFjcs0qHp3KHCuuD.jpg\n",
            "http://pbs.twimg.com/ext_tw_video_thumb/1174155905778290688/pu/img/sFjcs0qHp3KHCuuD.jpg\n",
            "http://pbs.twimg.com/ext_tw_video_thumb/1174155905778290688/pu/img/sFjcs0qHp3KHCuuD.jpg\n",
            "http://pbs.twimg.com/ext_tw_video_thumb/1174155905778290688/pu/img/sFjcs0qHp3KHCuuD.jpg\n",
            "http://pbs.twimg.com/ext_tw_video_thumb/1174155905778290688/pu/img/sFjcs0qHp3KHCuuD.jpg\n",
            "-----\n",
            "\n",
            "\n",
            "Autor:  Tatawerneck\n",
            "Imagens postadas:\n",
            "http://pbs.twimg.com/ext_tw_video_thumb/1174126303886413824/pu/img/U4bb_2BOZSA2h1Xi.jpg\n",
            "http://pbs.twimg.com/ext_tw_video_thumb/1174126303886413824/pu/img/U4bb_2BOZSA2h1Xi.jpg\n",
            "http://pbs.twimg.com/ext_tw_video_thumb/1174126303886413824/pu/img/U4bb_2BOZSA2h1Xi.jpg\n",
            "http://pbs.twimg.com/ext_tw_video_thumb/1174126303886413824/pu/img/U4bb_2BOZSA2h1Xi.jpg\n",
            "http://pbs.twimg.com/ext_tw_video_thumb/1174126303886413824/pu/img/U4bb_2BOZSA2h1Xi.jpg\n",
            "http://pbs.twimg.com/ext_tw_video_thumb/1174126303886413824/pu/img/U4bb_2BOZSA2h1Xi.jpg\n",
            "http://pbs.twimg.com/ext_tw_video_thumb/1174126303886413824/pu/img/U4bb_2BOZSA2h1Xi.jpg\n",
            "-----\n",
            "\n",
            "\n",
            "Autor:  FlaviaAleReal\n",
            "Imagens postadas:\n",
            "http://pbs.twimg.com/media/EEwBj5cWsAER04k.jpg\n",
            "http://pbs.twimg.com/tweet_video_thumb/EEwGjvPX4AQwn2H.jpg\n",
            "http://pbs.twimg.com/media/EEwBj5cWsAER04k.jpg\n",
            "http://pbs.twimg.com/media/EEwBj5cWsAER04k.jpg\n",
            "-----\n",
            "\n",
            "\n",
            "Autor:  julianapaes\n",
            "Imagens postadas:\n",
            "http://pbs.twimg.com/media/EExyb0ZXsAYKOb-.jpg\n",
            "http://pbs.twimg.com/media/EExyb0ZXsAYKOb-.jpg\n",
            "http://pbs.twimg.com/media/EEwN9oqXkAEt9x3.jpg\n",
            "http://pbs.twimg.com/media/EEwNu08W4AAyviw.png\n",
            "-----\n",
            "\n",
            "\n",
            "Autor:  dedesecco\n",
            "Imagens postadas:\n",
            "http://pbs.twimg.com/media/EErTNLWXYAE-sf3.jpg\n",
            "http://pbs.twimg.com/media/EEwik6PX4AAuKey.jpg\n",
            "http://pbs.twimg.com/media/EEwhwaVWwAE1G4F.jpg\n",
            "http://pbs.twimg.com/ext_tw_video_thumb/1170433895596212230/pu/img/AEocrGv5XDFll-0F.jpg\n",
            "http://pbs.twimg.com/media/EDj4MfBWsAEYJKP.jpg\n",
            "http://pbs.twimg.com/media/EErTNLWXYAE-sf3.jpg\n",
            "http://pbs.twimg.com/media/EErTNLWXYAE-sf3.jpg\n",
            "http://pbs.twimg.com/media/EErTNLWXYAE-sf3.jpg\n",
            "http://pbs.twimg.com/media/EErTNLWXYAE-sf3.jpg\n",
            "-----\n",
            "\n",
            "\n",
            "Autor:  SabrinaSato\n",
            "Imagens postadas:\n",
            "http://pbs.twimg.com/tweet_video_thumb/EAzTS7BXoAAJ8sk.jpg\n",
            "http://pbs.twimg.com/media/EA6WTOEXUAAY6eR.png\n",
            "http://pbs.twimg.com/ext_tw_video_thumb/1172927526492151808/pu/img/UV4obsWp-M4bSbI4.jpg\n",
            "http://pbs.twimg.com/ext_tw_video_thumb/1172927526492151808/pu/img/UV4obsWp-M4bSbI4.jpg\n",
            "-----\n",
            "\n",
            "\n",
            "Autor:  ahickmann\n",
            "Imagens postadas:\n",
            "-----\n",
            "\n",
            "\n",
            "Autor:  gusttavo_lima\n",
            "Imagens postadas:\n",
            "http://pbs.twimg.com/ext_tw_video_thumb/1174456964723687426/pu/img/V0i30uAlI7lLs8AT.jpg\n",
            "http://pbs.twimg.com/media/EEr0SvLWwAYvFOE.jpg\n",
            "-----\n",
            "\n",
            "\n",
            "Autor:  Anitta\n",
            "Imagens postadas:\n",
            "http://pbs.twimg.com/media/EExbsCNXUAcZf59.jpg\n",
            "http://pbs.twimg.com/media/EEtBSGSX4AE7z19.jpg\n",
            "-----\n",
            "\n",
            "\n",
            "Autor:  CarolCastroReal\n",
            "Imagens postadas:\n",
            "-----\n",
            "\n",
            "\n",
            "Autor:  gio_antonelli\n",
            "Imagens postadas:\n",
            "http://pbs.twimg.com/ext_tw_video_thumb/1174441290538323968/pu/img/62YxAxKL0QWWj9E-.jpg\n",
            "http://pbs.twimg.com/ext_tw_video_thumb/1174441290538323968/pu/img/62YxAxKL0QWWj9E-.jpg\n",
            "http://pbs.twimg.com/ext_tw_video_thumb/1174441290538323968/pu/img/62YxAxKL0QWWj9E-.jpg\n",
            "http://pbs.twimg.com/ext_tw_video_thumb/1174441290538323968/pu/img/62YxAxKL0QWWj9E-.jpg\n",
            "http://pbs.twimg.com/media/EExncpOXYAAX6_6.jpg\n",
            "http://pbs.twimg.com/media/EExjRkMXoAA5j9N.jpg\n",
            "http://pbs.twimg.com/media/EExjRkMXoAA5j9N.jpg\n",
            "http://pbs.twimg.com/ext_tw_video_thumb/1174416889394728960/pu/img/IdKNK3hITi-rQMxa.jpg\n",
            "-----\n",
            "\n",
            "\n",
            "Autor:  maisa\n",
            "Imagens postadas:\n",
            "-----\n",
            "\n",
            "\n",
            "Autor:  cleooficial\n",
            "Imagens postadas:\n",
            "http://pbs.twimg.com/media/DeKaNk_W4AALxja.jpg\n",
            "http://pbs.twimg.com/ext_tw_video_thumb/1142252589997862912/pu/img/HuUzVErWyCRoXn9T.jpg\n",
            "http://pbs.twimg.com/ext_tw_video_thumb/1068280738594922496/pu/img/uTxLLZulEwg7o9wn.jpg\n",
            "http://pbs.twimg.com/media/EAcSBYPXsAIdlLt.jpg\n",
            "http://pbs.twimg.com/ext_tw_video_thumb/1140797963561787399/pu/img/WnAOqfvXugKJvnsh.jpg\n",
            "http://pbs.twimg.com/media/EBx-3weX4AAQkDl.jpg\n",
            "http://pbs.twimg.com/ext_tw_video_thumb/1068280738594922496/pu/img/uTxLLZulEwg7o9wn.jpg\n",
            "http://pbs.twimg.com/media/D0Leh8CWkAApK5d.jpg\n",
            "http://pbs.twimg.com/media/D0sjYKiXQAECMrY.jpg\n",
            "http://pbs.twimg.com/media/D1FmoD9X4Asz5Rt.png\n",
            "http://pbs.twimg.com/media/D1FnIE8X4AA3lqK.jpg\n",
            "http://pbs.twimg.com/media/D1qZiShWsAAwVqH.jpg\n",
            "http://pbs.twimg.com/media/EAcSBYPXsAIdlLt.jpg\n",
            "http://pbs.twimg.com/media/EBx-3weX4AAQkDl.jpg\n",
            "http://pbs.twimg.com/ext_tw_video_thumb/959471162148491265/pu/img/3A39mu3mNISlbl1D.jpg\n",
            "http://pbs.twimg.com/ext_tw_video_thumb/1068280738594922496/pu/img/uTxLLZulEwg7o9wn.jpg\n",
            "http://pbs.twimg.com/media/EAcSBYPXsAIdlLt.jpg\n",
            "-----\n",
            "\n",
            "\n",
            "Autor:  gewbank\n",
            "Imagens postadas:\n",
            "-----\n",
            "\n",
            "\n",
            "Autor:  taisdeverdade\n",
            "Imagens postadas:\n",
            "http://pbs.twimg.com/media/EEvyjgqXoAAuKmK.jpg\n",
            "-----\n",
            "\n",
            "\n",
            "Autor:  otaviano\n",
            "Imagens postadas:\n",
            "-----\n",
            "\n",
            "\n",
            "Autor:  bernardipaloma\n",
            "Imagens postadas:\n",
            "http://pbs.twimg.com/media/EErAsevXYAEID36.jpg\n",
            "http://pbs.twimg.com/tweet_video_thumb/EErCjHhXUAMuLfl.jpg\n",
            "http://pbs.twimg.com/media/EErAsevXYAEID36.jpg\n",
            "http://pbs.twimg.com/media/EEmXNvNXUAIq_If.jpg\n",
            "-----\n",
            "\n",
            "\n",
            "Autor:  IngridGuimaraes\n",
            "Imagens postadas:\n",
            "http://pbs.twimg.com/media/EExuappWsAANp8T.jpg\n",
            "http://pbs.twimg.com/tweet_video_thumb/EEu6Q91XUAAfyKK.jpg\n",
            "-----\n",
            "\n",
            "\n",
            "Autor:  olazaroramos\n",
            "Imagens postadas:\n",
            "http://pbs.twimg.com/media/DLm3DQzXcAAD1lG.jpg\n",
            "-----\n",
            "\n",
            "\n",
            "Autor:  GalisteuOficial\n",
            "Imagens postadas:\n",
            "http://pbs.twimg.com/media/EEtcEWGX4AAk4_5.jpg\n",
            "-----\n",
            "\n",
            "\n",
            "Autor:  debranascimento\n",
            "Imagens postadas:\n",
            "-----\n",
            "\n",
            "\n",
            "Autor:  FioMattheis\n",
            "Imagens postadas:\n",
            "http://pbs.twimg.com/tweet_video_thumb/EEWCe_xWsAE2oUk.jpg\n",
            "http://pbs.twimg.com/media/EESa6_zWkAAV9ui.jpg\n",
            "http://pbs.twimg.com/media/EEEDbqjXkAAKsB3.jpg\n",
            "-----\n",
            "\n",
            "\n",
            "Autor:  moalfradique\n",
            "Imagens postadas:\n",
            "http://pbs.twimg.com/tweet_video_thumb/EEoFQWuX4AAl8WS.jpg\n",
            "-----\n",
            "\n",
            "\n",
            "Autor:  Nandacostareal\n",
            "Imagens postadas:\n",
            "-----\n",
            "\n",
            "\n"
          ],
          "name": "stdout"
        }
      ]
    },
    {
      "cell_type": "code",
      "metadata": {
        "id": "Wzy3q7cYosaY",
        "colab_type": "code",
        "colab": {}
      },
      "source": [
        ""
      ],
      "execution_count": 0,
      "outputs": []
    }
  ]
}